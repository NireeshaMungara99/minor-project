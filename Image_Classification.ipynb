{
  "nbformat": 4,
  "nbformat_minor": 0,
  "metadata": {
    "colab": {
      "name": "Image Classification.ipynb",
      "provenance": [],
      "authorship_tag": "ABX9TyNyZr5WkKsb6sJXmEPb4wbs",
      "include_colab_link": true
    },
    "kernelspec": {
      "name": "python3",
      "display_name": "Python 3"
    }
  },
  "cells": [
    {
      "cell_type": "markdown",
      "metadata": {
        "id": "view-in-github",
        "colab_type": "text"
      },
      "source": [
        "<a href=\"https://colab.research.google.com/github/NireeshaMungara99/minor-project/blob/main/Image_Classification.ipynb\" target=\"_parent\"><img src=\"https://colab.research.google.com/assets/colab-badge.svg\" alt=\"Open In Colab\"/></a>"
      ]
    },
    {
      "cell_type": "code",
      "metadata": {
        "colab": {
          "base_uri": "https://localhost:8080/"
        },
        "id": "zuNQSLfHDae3",
        "outputId": "e1ce3099-cf9f-491e-c825-5bfdda5a317e"
      },
      "source": [
        "!pip install bing-image-downloader"
      ],
      "execution_count": 11,
      "outputs": [
        {
          "output_type": "stream",
          "text": [
            "Requirement already satisfied: bing-image-downloader in /usr/local/lib/python3.6/dist-packages (1.0.4)\n",
            "time: 2.54 s\n"
          ],
          "name": "stdout"
        }
      ]
    },
    {
      "cell_type": "code",
      "metadata": {
        "colab": {
          "base_uri": "https://localhost:8080/"
        },
        "id": "gcfefKCIEQUK",
        "outputId": "10078f00-dafc-4474-c3e3-04d766bb5f55"
      },
      "source": [
        "!mkdir images"
      ],
      "execution_count": 38,
      "outputs": [
        {
          "output_type": "stream",
          "text": [
            "mkdir: cannot create directory ‘images’: File exists\n",
            "time: 120 ms\n"
          ],
          "name": "stdout"
        }
      ]
    },
    {
      "cell_type": "code",
      "metadata": {
        "colab": {
          "base_uri": "https://localhost:8080/"
        },
        "id": "08pFFgIVEp1d",
        "outputId": "acd145f6-6710-4fca-d847-231b35f0f3c8"
      },
      "source": [
        "from bing_image_downloader import downloader\n",
        "downloader.download(\"cars\",limit=30,output_dir='images',adult_filter_off=True)"
      ],
      "execution_count": 37,
      "outputs": [
        {
          "output_type": "stream",
          "text": [
            "\n",
            "\n",
            "[!!]Indexing page: 1\n",
            "\n",
            "[%] Indexed 13 Images on Page 1.\n",
            "\n",
            "===============================================\n",
            "\n",
            "[%] Downloading Image #1 from https://wallpapersite.com/images/wallpapers/aston-martin-vulcan-1440x2560-concept-cars-racing-hd-8556.jpg\n",
            "[!] Issue getting: https://wallpapersite.com/images/wallpapers/aston-martin-vulcan-1440x2560-concept-cars-racing-hd-8556.jpg\n",
            "[!] Error:: HTTP Error 404: Not Found\n",
            "[%] Downloading Image #1 from https://wallpapersite.com/images/wallpapers/ferrari-fxx-k-1440x2560-4k-12709.jpeg\n",
            "[!] Issue getting: https://wallpapersite.com/images/wallpapers/ferrari-fxx-k-1440x2560-4k-12709.jpeg\n",
            "[!] Error:: HTTP Error 404: Not Found\n",
            "[%] Downloading Image #1 from https://wallpapersite.com/images/wallpapers/2018-640x960-happy-new-year-infinite-hd-11823.jpg\n",
            "[!] Issue getting: https://wallpapersite.com/images/wallpapers/2018-640x960-happy-new-year-infinite-hd-11823.jpg\n",
            "[!] Error:: HTTP Error 404: Not Found\n",
            "[%] Downloading Image #1 from https://flashbak.com/wp-content/uploads/2015/11/massive-ahir.jpg\n",
            "[%] File Downloaded !\n",
            "\n",
            "[%] Downloading Image #2 from https://www.setaswall.com/wp-content/uploads/2018/09/1242x2688-Wallpaper-005-380x822.jpg\n",
            "[%] File Downloaded !\n",
            "\n",
            "[%] Downloading Image #3 from https://weneedfun.com/wp-content/uploads/2016/07/3D-Fire-Wallpapers-271-1024x733.jpg\n",
            "[%] File Downloaded !\n",
            "\n",
            "[%] Downloading Image #4 from https://wallpapersite.com/images/wallpapers/ferrari-sf71h-1440x2560-f1-2018-formula-one-f1-cars-2018-4k-12436.jpeg\n",
            "[!] Issue getting: https://wallpapersite.com/images/wallpapers/ferrari-sf71h-1440x2560-f1-2018-formula-one-f1-cars-2018-4k-12436.jpeg\n",
            "[!] Error:: HTTP Error 404: Not Found\n",
            "[%] Downloading Image #4 from https://wallpapersite.com/images/wallpapers/porsche-cayenne-coupe-1440x2560-techart-2019-18941.jpeg\n",
            "[!] Issue getting: https://wallpapersite.com/images/wallpapers/porsche-cayenne-coupe-1440x2560-techart-2019-18941.jpeg\n",
            "[!] Error:: HTTP Error 404: Not Found\n",
            "[%] Downloading Image #4 from http://www.toxel.com/wp-content/uploads/2015/10/plasticbsculp02.jpg\n",
            "[%] File Downloaded !\n",
            "\n",
            "[%] Downloading Image #5 from https://wallpapersite.com/images/wallpapers/lamborghini-aventador-720x1280-green-4k-lamborghini-2184.jpg\n",
            "[!] Issue getting: https://wallpapersite.com/images/wallpapers/lamborghini-aventador-720x1280-green-4k-lamborghini-2184.jpg\n",
            "[!] Error:: HTTP Error 404: Not Found\n",
            "[%] Downloading Image #5 from https://wallpapersite.com/images/wallpapers/bumblebee-1440x2560-5k-transformers-the-last-knight-chevrolet-camaro-698.jpg\n",
            "[!] Issue getting: https://wallpapersite.com/images/wallpapers/bumblebee-1440x2560-5k-transformers-the-last-knight-chevrolet-camaro-698.jpg\n",
            "[!] Error:: HTTP Error 404: Not Found\n",
            "[%] Downloading Image #5 from https://digitalsynopsis.com/wp-content/uploads/2015/06/funny-windshield-notes-bad-driver-parking-12.jpg\n",
            "[%] File Downloaded !\n",
            "\n",
            "[%] Downloading Image #6 from https://wallpapersite.com/images/wallpapers/alfa-romeo-giulietta-quadrifoglio-verde-2048x1536-2017-hd-10111.jpeg\n",
            "[!] Issue getting: https://wallpapersite.com/images/wallpapers/alfa-romeo-giulietta-quadrifoglio-verde-2048x1536-2017-hd-10111.jpeg\n",
            "[!] Error:: HTTP Error 404: Not Found\n",
            "\n",
            "\n",
            "[!!]Indexing page: 2\n",
            "\n",
            "[%] Indexed 13 Images on Page 2.\n",
            "\n",
            "===============================================\n",
            "\n",
            "[%] Downloading Image #6 from https://wallpapersite.com/images/wallpapers/aston-martin-vulcan-1440x2560-concept-cars-racing-hd-8556.jpg\n",
            "[!] Issue getting: https://wallpapersite.com/images/wallpapers/aston-martin-vulcan-1440x2560-concept-cars-racing-hd-8556.jpg\n",
            "[!] Error:: HTTP Error 404: Not Found\n",
            "[%] Downloading Image #6 from https://wallpapersite.com/images/wallpapers/ferrari-fxx-k-1440x2560-4k-12709.jpeg\n",
            "[!] Issue getting: https://wallpapersite.com/images/wallpapers/ferrari-fxx-k-1440x2560-4k-12709.jpeg\n",
            "[!] Error:: HTTP Error 404: Not Found\n",
            "[%] Downloading Image #6 from https://wallpapersite.com/images/wallpapers/2018-640x960-happy-new-year-infinite-hd-11823.jpg\n",
            "[!] Issue getting: https://wallpapersite.com/images/wallpapers/2018-640x960-happy-new-year-infinite-hd-11823.jpg\n",
            "[!] Error:: HTTP Error 404: Not Found\n",
            "[%] Downloading Image #6 from https://flashbak.com/wp-content/uploads/2015/11/massive-ahir.jpg\n",
            "[%] File Downloaded !\n",
            "\n",
            "[%] Downloading Image #7 from https://www.setaswall.com/wp-content/uploads/2018/09/1242x2688-Wallpaper-005-380x822.jpg\n",
            "[%] File Downloaded !\n",
            "\n",
            "[%] Downloading Image #8 from https://weneedfun.com/wp-content/uploads/2016/07/3D-Fire-Wallpapers-271-1024x733.jpg\n",
            "[%] File Downloaded !\n",
            "\n",
            "[%] Downloading Image #9 from https://wallpapersite.com/images/wallpapers/ferrari-sf71h-1440x2560-f1-2018-formula-one-f1-cars-2018-4k-12436.jpeg\n",
            "[!] Issue getting: https://wallpapersite.com/images/wallpapers/ferrari-sf71h-1440x2560-f1-2018-formula-one-f1-cars-2018-4k-12436.jpeg\n",
            "[!] Error:: HTTP Error 404: Not Found\n",
            "[%] Downloading Image #9 from https://wallpapersite.com/images/wallpapers/porsche-cayenne-coupe-1440x2560-techart-2019-18941.jpeg\n",
            "[!] Issue getting: https://wallpapersite.com/images/wallpapers/porsche-cayenne-coupe-1440x2560-techart-2019-18941.jpeg\n",
            "[!] Error:: HTTP Error 404: Not Found\n",
            "[%] Downloading Image #9 from http://www.toxel.com/wp-content/uploads/2015/10/plasticbsculp02.jpg\n",
            "[%] File Downloaded !\n",
            "\n",
            "[%] Downloading Image #10 from https://wallpapersite.com/images/wallpapers/lamborghini-aventador-720x1280-green-4k-lamborghini-2184.jpg\n",
            "[!] Issue getting: https://wallpapersite.com/images/wallpapers/lamborghini-aventador-720x1280-green-4k-lamborghini-2184.jpg\n",
            "[!] Error:: HTTP Error 404: Not Found\n",
            "[%] Downloading Image #10 from https://wallpapersite.com/images/wallpapers/bumblebee-1440x2560-5k-transformers-the-last-knight-chevrolet-camaro-698.jpg\n",
            "[!] Issue getting: https://wallpapersite.com/images/wallpapers/bumblebee-1440x2560-5k-transformers-the-last-knight-chevrolet-camaro-698.jpg\n",
            "[!] Error:: HTTP Error 404: Not Found\n",
            "[%] Downloading Image #10 from https://digitalsynopsis.com/wp-content/uploads/2015/06/funny-windshield-notes-bad-driver-parking-12.jpg\n",
            "[%] File Downloaded !\n",
            "\n",
            "[%] Downloading Image #11 from https://wallpapersite.com/images/wallpapers/alfa-romeo-giulietta-quadrifoglio-verde-2048x1536-2017-hd-10111.jpeg\n",
            "[!] Issue getting: https://wallpapersite.com/images/wallpapers/alfa-romeo-giulietta-quadrifoglio-verde-2048x1536-2017-hd-10111.jpeg\n",
            "[!] Error:: HTTP Error 404: Not Found\n",
            "\n",
            "\n",
            "[!!]Indexing page: 3\n",
            "\n",
            "[%] Indexed 12 Images on Page 3.\n",
            "\n",
            "===============================================\n",
            "\n",
            "[%] Downloading Image #11 from https://flashbak.com/wp-content/uploads/2015/11/massive-ahir.jpg\n",
            "[%] File Downloaded !\n",
            "\n",
            "[%] Downloading Image #12 from https://wallpapersite.com/images/wallpapers/2018-640x960-happy-new-year-infinite-hd-11823.jpg\n",
            "[!] Issue getting: https://wallpapersite.com/images/wallpapers/2018-640x960-happy-new-year-infinite-hd-11823.jpg\n",
            "[!] Error:: HTTP Error 404: Not Found\n",
            "[%] Downloading Image #12 from https://wallpapersite.com/images/wallpapers/ferrari-sf71h-1440x2560-f1-2018-formula-one-f1-cars-2018-4k-12436.jpeg\n",
            "[!] Issue getting: https://wallpapersite.com/images/wallpapers/ferrari-sf71h-1440x2560-f1-2018-formula-one-f1-cars-2018-4k-12436.jpeg\n",
            "[!] Error:: HTTP Error 404: Not Found\n",
            "[%] Downloading Image #12 from https://wallpapersite.com/images/wallpapers/porsche-cayenne-coupe-1440x2560-techart-2019-18941.jpeg\n",
            "[!] Issue getting: https://wallpapersite.com/images/wallpapers/porsche-cayenne-coupe-1440x2560-techart-2019-18941.jpeg\n",
            "[!] Error:: HTTP Error 404: Not Found\n",
            "[%] Downloading Image #12 from https://wallpapersite.com/images/wallpapers/lamborghini-aventador-720x1280-green-4k-lamborghini-2184.jpg\n",
            "[!] Issue getting: https://wallpapersite.com/images/wallpapers/lamborghini-aventador-720x1280-green-4k-lamborghini-2184.jpg\n",
            "[!] Error:: HTTP Error 404: Not Found\n",
            "[%] Downloading Image #12 from https://wallpapersite.com/images/wallpapers/bumblebee-1440x2560-5k-transformers-the-last-knight-chevrolet-camaro-698.jpg\n",
            "[!] Issue getting: https://wallpapersite.com/images/wallpapers/bumblebee-1440x2560-5k-transformers-the-last-knight-chevrolet-camaro-698.jpg\n",
            "[!] Error:: HTTP Error 404: Not Found\n",
            "[%] Downloading Image #12 from https://digitalsynopsis.com/wp-content/uploads/2015/06/funny-windshield-notes-bad-driver-parking-12.jpg\n",
            "[%] File Downloaded !\n",
            "\n",
            "[%] Downloading Image #13 from https://wallpapersite.com/images/wallpapers/ferrari-fxx-k-1440x2560-4k-12709.jpeg\n",
            "[!] Issue getting: https://wallpapersite.com/images/wallpapers/ferrari-fxx-k-1440x2560-4k-12709.jpeg\n",
            "[!] Error:: HTTP Error 404: Not Found\n",
            "[%] Downloading Image #13 from http://www.toxel.com/wp-content/uploads/2015/10/plasticbsculp02.jpg\n",
            "[%] File Downloaded !\n",
            "\n",
            "[%] Downloading Image #14 from https://www.setaswall.com/wp-content/uploads/2018/09/1242x2688-Wallpaper-005-380x822.jpg\n",
            "[%] File Downloaded !\n",
            "\n",
            "[%] Downloading Image #15 from https://wallpapersite.com/images/wallpapers/alfa-romeo-giulietta-quadrifoglio-verde-2048x1536-2017-hd-10111.jpeg\n",
            "[!] Issue getting: https://wallpapersite.com/images/wallpapers/alfa-romeo-giulietta-quadrifoglio-verde-2048x1536-2017-hd-10111.jpeg\n",
            "[!] Error:: HTTP Error 404: Not Found\n",
            "[%] Downloading Image #15 from https://weneedfun.com/wp-content/uploads/2016/07/3D-Fire-Wallpapers-271-1024x733.jpg\n",
            "[%] File Downloaded !\n",
            "\n",
            "\n",
            "\n",
            "[!!]Indexing page: 4\n",
            "\n",
            "[%] Indexed 11 Images on Page 4.\n",
            "\n",
            "===============================================\n",
            "\n",
            "[%] Downloading Image #16 from https://wallpapersite.com/images/wallpapers/ferrari-sf71h-1440x2560-f1-2018-formula-one-f1-cars-2018-4k-12436.jpeg\n",
            "[!] Issue getting: https://wallpapersite.com/images/wallpapers/ferrari-sf71h-1440x2560-f1-2018-formula-one-f1-cars-2018-4k-12436.jpeg\n",
            "[!] Error:: HTTP Error 404: Not Found\n",
            "[%] Downloading Image #16 from https://wallpapersite.com/images/wallpapers/porsche-cayenne-coupe-1440x2560-techart-2019-18941.jpeg\n",
            "[!] Issue getting: https://wallpapersite.com/images/wallpapers/porsche-cayenne-coupe-1440x2560-techart-2019-18941.jpeg\n",
            "[!] Error:: HTTP Error 404: Not Found\n",
            "[%] Downloading Image #16 from https://wallpapersite.com/images/wallpapers/lamborghini-aventador-720x1280-green-4k-lamborghini-2184.jpg\n",
            "[!] Issue getting: https://wallpapersite.com/images/wallpapers/lamborghini-aventador-720x1280-green-4k-lamborghini-2184.jpg\n",
            "[!] Error:: HTTP Error 404: Not Found\n",
            "[%] Downloading Image #16 from https://wallpapersite.com/images/wallpapers/bumblebee-1440x2560-5k-transformers-the-last-knight-chevrolet-camaro-698.jpg\n",
            "[!] Issue getting: https://wallpapersite.com/images/wallpapers/bumblebee-1440x2560-5k-transformers-the-last-knight-chevrolet-camaro-698.jpg\n",
            "[!] Error:: HTTP Error 404: Not Found\n",
            "[%] Downloading Image #16 from https://digitalsynopsis.com/wp-content/uploads/2015/06/funny-windshield-notes-bad-driver-parking-12.jpg\n",
            "[%] File Downloaded !\n",
            "\n",
            "[%] Downloading Image #17 from https://www.setaswall.com/wp-content/uploads/2018/09/1242x2688-Wallpaper-005-380x822.jpg\n",
            "[%] File Downloaded !\n",
            "\n",
            "[%] Downloading Image #18 from https://weneedfun.com/wp-content/uploads/2016/07/3D-Fire-Wallpapers-271-1024x733.jpg\n",
            "[%] File Downloaded !\n",
            "\n",
            "[%] Downloading Image #19 from http://www.toxel.com/wp-content/uploads/2015/10/plasticbsculp02.jpg\n",
            "[%] File Downloaded !\n",
            "\n",
            "[%] Downloading Image #20 from https://wallpapersite.com/images/wallpapers/ferrari-fxx-k-1440x2560-4k-12709.jpeg\n",
            "[!] Issue getting: https://wallpapersite.com/images/wallpapers/ferrari-fxx-k-1440x2560-4k-12709.jpeg\n",
            "[!] Error:: HTTP Error 404: Not Found\n",
            "[%] Downloading Image #20 from https://wallpapersite.com/images/wallpapers/alfa-romeo-giulietta-quadrifoglio-verde-2048x1536-2017-hd-10111.jpeg\n",
            "[!] Issue getting: https://wallpapersite.com/images/wallpapers/alfa-romeo-giulietta-quadrifoglio-verde-2048x1536-2017-hd-10111.jpeg\n",
            "[!] Error:: HTTP Error 404: Not Found\n",
            "[%] Downloading Image #20 from https://wallpapersite.com/images/wallpapers/2018-640x960-happy-new-year-infinite-hd-11823.jpg\n",
            "[!] Issue getting: https://wallpapersite.com/images/wallpapers/2018-640x960-happy-new-year-infinite-hd-11823.jpg\n",
            "[!] Error:: HTTP Error 404: Not Found\n",
            "\n",
            "\n",
            "[!!]Indexing page: 5\n",
            "\n",
            "[%] Indexed 10 Images on Page 5.\n",
            "\n",
            "===============================================\n",
            "\n",
            "[%] Downloading Image #20 from https://wallpapersite.com/images/wallpapers/lamborghini-aventador-720x1280-green-4k-lamborghini-2184.jpg\n",
            "[!] Issue getting: https://wallpapersite.com/images/wallpapers/lamborghini-aventador-720x1280-green-4k-lamborghini-2184.jpg\n",
            "[!] Error:: HTTP Error 404: Not Found\n",
            "[%] Downloading Image #20 from https://wallpapersite.com/images/wallpapers/alfa-romeo-giulietta-quadrifoglio-verde-2048x1536-2017-hd-10111.jpeg\n",
            "[!] Issue getting: https://wallpapersite.com/images/wallpapers/alfa-romeo-giulietta-quadrifoglio-verde-2048x1536-2017-hd-10111.jpeg\n",
            "[!] Error:: HTTP Error 404: Not Found\n",
            "[%] Downloading Image #20 from https://digitalsynopsis.com/wp-content/uploads/2015/06/funny-windshield-notes-bad-driver-parking-12.jpg\n",
            "[%] File Downloaded !\n",
            "\n",
            "[%] Downloading Image #21 from https://wallpapersite.com/images/wallpapers/bumblebee-1440x2560-5k-transformers-the-last-knight-chevrolet-camaro-698.jpg\n",
            "[!] Issue getting: https://wallpapersite.com/images/wallpapers/bumblebee-1440x2560-5k-transformers-the-last-knight-chevrolet-camaro-698.jpg\n",
            "[!] Error:: HTTP Error 404: Not Found\n",
            "[%] Downloading Image #21 from https://www.setaswall.com/wp-content/uploads/2018/09/1242x2688-Wallpaper-005-380x822.jpg\n",
            "[%] File Downloaded !\n",
            "\n",
            "[%] Downloading Image #22 from https://wallpapersite.com/images/wallpapers/2018-640x960-happy-new-year-infinite-hd-11823.jpg\n",
            "[!] Issue getting: https://wallpapersite.com/images/wallpapers/2018-640x960-happy-new-year-infinite-hd-11823.jpg\n",
            "[!] Error:: HTTP Error 404: Not Found\n",
            "[%] Downloading Image #22 from https://wallpapersite.com/images/wallpapers/ferrari-fxx-k-1440x2560-4k-12709.jpeg\n",
            "[!] Issue getting: https://wallpapersite.com/images/wallpapers/ferrari-fxx-k-1440x2560-4k-12709.jpeg\n",
            "[!] Error:: HTTP Error 404: Not Found\n",
            "[%] Downloading Image #22 from https://weneedfun.com/wp-content/uploads/2016/07/3D-Fire-Wallpapers-271-1024x733.jpg\n",
            "[%] File Downloaded !\n",
            "\n",
            "[%] Downloading Image #23 from http://www.toxel.com/wp-content/uploads/2015/10/plasticbsculp02.jpg\n",
            "[%] File Downloaded !\n",
            "\n",
            "[%] Downloading Image #24 from https://wallpapersite.com/images/wallpapers/porsche-cayenne-coupe-1440x2560-techart-2019-18941.jpeg\n",
            "[!] Issue getting: https://wallpapersite.com/images/wallpapers/porsche-cayenne-coupe-1440x2560-techart-2019-18941.jpeg\n",
            "[!] Error:: HTTP Error 404: Not Found\n",
            "\n",
            "\n",
            "[!!]Indexing page: 6\n",
            "\n",
            "[%] Indexed 9 Images on Page 6.\n",
            "\n",
            "===============================================\n",
            "\n",
            "[%] Downloading Image #24 from https://digitalsynopsis.com/wp-content/uploads/2015/06/funny-windshield-notes-bad-driver-parking-12.jpg\n",
            "[%] File Downloaded !\n",
            "\n",
            "[%] Downloading Image #25 from https://wallpapersite.com/images/wallpapers/alfa-romeo-giulietta-quadrifoglio-verde-2048x1536-2017-hd-10111.jpeg\n",
            "[!] Issue getting: https://wallpapersite.com/images/wallpapers/alfa-romeo-giulietta-quadrifoglio-verde-2048x1536-2017-hd-10111.jpeg\n",
            "[!] Error:: HTTP Error 404: Not Found\n",
            "[%] Downloading Image #25 from https://www.setaswall.com/wp-content/uploads/2018/09/1242x2688-Wallpaper-005-380x822.jpg\n",
            "[%] File Downloaded !\n",
            "\n",
            "[%] Downloading Image #26 from http://www.toxel.com/wp-content/uploads/2015/10/plasticbsculp02.jpg\n",
            "[%] File Downloaded !\n",
            "\n",
            "[%] Downloading Image #27 from https://wallpapersite.com/images/wallpapers/ferrari-fxx-k-1440x2560-4k-12709.jpeg\n",
            "[!] Issue getting: https://wallpapersite.com/images/wallpapers/ferrari-fxx-k-1440x2560-4k-12709.jpeg\n",
            "[!] Error:: HTTP Error 404: Not Found\n",
            "[%] Downloading Image #27 from https://weneedfun.com/wp-content/uploads/2016/07/3D-Fire-Wallpapers-271-1024x733.jpg\n",
            "[%] File Downloaded !\n",
            "\n",
            "[%] Downloading Image #28 from https://wallpapersite.com/images/wallpapers/porsche-cayenne-coupe-1440x2560-techart-2019-18941.jpeg\n",
            "[!] Issue getting: https://wallpapersite.com/images/wallpapers/porsche-cayenne-coupe-1440x2560-techart-2019-18941.jpeg\n",
            "[!] Error:: HTTP Error 404: Not Found\n",
            "[%] Downloading Image #28 from https://wallpapersite.com/images/wallpapers/2018-640x960-happy-new-year-infinite-hd-11823.jpg\n",
            "[!] Issue getting: https://wallpapersite.com/images/wallpapers/2018-640x960-happy-new-year-infinite-hd-11823.jpg\n",
            "[!] Error:: HTTP Error 404: Not Found\n",
            "[%] Downloading Image #28 from https://wallpapersite.com/images/wallpapers/bumblebee-1440x2560-5k-transformers-the-last-knight-chevrolet-camaro-698.jpg\n",
            "[!] Issue getting: https://wallpapersite.com/images/wallpapers/bumblebee-1440x2560-5k-transformers-the-last-knight-chevrolet-camaro-698.jpg\n",
            "[!] Error:: HTTP Error 404: Not Found\n",
            "\n",
            "\n",
            "[!!]Indexing page: 7\n",
            "\n",
            "[%] Indexed 8 Images on Page 7.\n",
            "\n",
            "===============================================\n",
            "\n",
            "[%] Downloading Image #28 from https://www.setaswall.com/wp-content/uploads/2018/09/1242x2688-Wallpaper-005-380x822.jpg\n",
            "[%] File Downloaded !\n",
            "\n",
            "[%] Downloading Image #29 from https://wallpapersite.com/images/wallpapers/ferrari-fxx-k-1440x2560-4k-12709.jpeg\n",
            "[!] Issue getting: https://wallpapersite.com/images/wallpapers/ferrari-fxx-k-1440x2560-4k-12709.jpeg\n",
            "[!] Error:: HTTP Error 404: Not Found\n",
            "[%] Downloading Image #29 from https://weneedfun.com/wp-content/uploads/2016/07/3D-Fire-Wallpapers-271-1024x733.jpg\n",
            "[%] File Downloaded !\n",
            "\n",
            "[%] Downloading Image #30 from https://wallpapersite.com/images/wallpapers/porsche-cayenne-coupe-1440x2560-techart-2019-18941.jpeg\n",
            "[!] Issue getting: https://wallpapersite.com/images/wallpapers/porsche-cayenne-coupe-1440x2560-techart-2019-18941.jpeg\n",
            "[!] Error:: HTTP Error 404: Not Found\n",
            "[%] Downloading Image #30 from https://wallpapersite.com/images/wallpapers/2018-640x960-happy-new-year-infinite-hd-11823.jpg\n",
            "[!] Issue getting: https://wallpapersite.com/images/wallpapers/2018-640x960-happy-new-year-infinite-hd-11823.jpg\n",
            "[!] Error:: HTTP Error 404: Not Found\n",
            "[%] Downloading Image #30 from https://wallpapersite.com/images/wallpapers/bumblebee-1440x2560-5k-transformers-the-last-knight-chevrolet-camaro-698.jpg\n",
            "[!] Issue getting: https://wallpapersite.com/images/wallpapers/bumblebee-1440x2560-5k-transformers-the-last-knight-chevrolet-camaro-698.jpg\n",
            "[!] Error:: HTTP Error 404: Not Found\n",
            "[%] Downloading Image #30 from http://www.toxel.com/wp-content/uploads/2015/10/plasticbsculp02.jpg\n",
            "[%] File Downloaded !\n",
            "\n",
            "\n",
            "\n",
            "[%] Done. Downloaded 30 images.\n",
            "\n",
            "===============================================\n",
            "\n",
            "time: 9.73 s\n"
          ],
          "name": "stdout"
        }
      ]
    },
    {
      "cell_type": "code",
      "metadata": {
        "colab": {
          "base_uri": "https://localhost:8080/"
        },
        "id": "39Jp9BUnF-EB",
        "outputId": "11ade1b7-dfc7-4340-8524-87ed6e586c77"
      },
      "source": [
        "from bing_image_downloader import downloader\n",
        "downloader.download(\"bikes\",limit=30,output_dir='images',adult_filter_off=True)"
      ],
      "execution_count": 36,
      "outputs": [
        {
          "output_type": "stream",
          "text": [
            "\n",
            "\n",
            "[!!]Indexing page: 1\n",
            "\n",
            "[%] Indexed 13 Images on Page 1.\n",
            "\n",
            "===============================================\n",
            "\n",
            "[%] Downloading Image #1 from https://wallpapersite.com/images/wallpapers/ktm-1290-super-duke-gt-1440x2560-sportsbike-2017-bikes-4k-2479.jpeg\n",
            "[!] Issue getting: https://wallpapersite.com/images/wallpapers/ktm-1290-super-duke-gt-1440x2560-sportsbike-2017-bikes-4k-2479.jpeg\n",
            "[!] Error:: HTTP Error 404: Not Found\n",
            "[%] Downloading Image #1 from https://wallpapershome.com/images/wallpapers/antelope-canyon-1440x2560-4k-5k-wallpaper-8k-arizona-usa-travel-6268.jpg\n",
            "[%] File Downloaded !\n",
            "\n",
            "[%] Downloading Image #2 from https://wallpapershome.com/images/wallpapers/switzerland-2160x3840-5k-4k-wallpaper-8k-hd-mountains-sunset-hills-5303.jpg\n",
            "[%] File Downloaded !\n",
            "\n",
            "[%] Downloading Image #3 from https://wallpapersite.com/images/wallpapers/ktm-1290-super-duke-r-1440x2560-2017-hd-3687.jpg\n",
            "[!] Issue getting: https://wallpapersite.com/images/wallpapers/ktm-1290-super-duke-r-1440x2560-2017-hd-3687.jpg\n",
            "[!] Error:: HTTP Error 404: Not Found\n",
            "[%] Downloading Image #3 from https://wallpapershome.com/images/wallpapers/autumn-1440x2560-lake-forest-5k-15987.jpg\n",
            "[%] File Downloaded !\n",
            "\n",
            "[%] Downloading Image #4 from https://wallpapershome.com/images/wallpapers/autumn-forest-1080x1920-5k-4k-wallpaper-rocks-trees-plants-waterfall-584.jpg\n",
            "[%] File Downloaded !\n",
            "\n",
            "[%] Downloading Image #5 from https://wallpapersite.com/images/wallpapers/ktm-790-duke-1440x2560-2018-4k-10960.jpg\n",
            "[!] Issue getting: https://wallpapersite.com/images/wallpapers/ktm-790-duke-1440x2560-2018-4k-10960.jpg\n",
            "[!] Error:: HTTP Error 404: Not Found\n",
            "[%] Downloading Image #5 from https://www.hdwallpapers.in/download/jupiter_ferris_wheel_fair-1366x768.jpg\n",
            "[%] File Downloaded !\n",
            "\n",
            "[%] Downloading Image #6 from https://wallpapershome.com/images/wallpapers/autumn-forest-1440x2560-5k-4k-wallpaper-rocks-trees-plants-waterfall-584.jpg\n",
            "[%] File Downloaded !\n",
            "\n",
            "[%] Downloading Image #7 from https://wallpapersite.com/images/wallpapers/yamaha-mt-10-sp-640x960-2017-moon-3700.jpg\n",
            "[!] Issue getting: https://wallpapersite.com/images/wallpapers/yamaha-mt-10-sp-640x960-2017-moon-3700.jpg\n",
            "[!] Error:: HTTP Error 404: Not Found\n",
            "[%] Downloading Image #7 from http://wallpapershome.com/images/pages/pic_v/14978.jpg\n",
            "[%] File Downloaded !\n",
            "\n",
            "[%] Downloading Image #8 from https://wallpapershome.com/images/wallpapers/niagara-falls-2160x3840-waterfall-7k-19444.jpg\n",
            "[%] File Downloaded !\n",
            "\n",
            "[%] Downloading Image #9 from https://www.hdwallpapers.in/download/brave_movie_2012-1366x768.jpg\n",
            "[%] File Downloaded !\n",
            "\n",
            "\n",
            "\n",
            "[!!]Indexing page: 2\n",
            "\n",
            "[%] Indexed 13 Images on Page 2.\n",
            "\n",
            "===============================================\n",
            "\n",
            "[%] Downloading Image #10 from https://wallpapersite.com/images/wallpapers/ktm-1290-super-duke-gt-1440x2560-sportsbike-2017-bikes-4k-2479.jpeg\n",
            "[!] Issue getting: https://wallpapersite.com/images/wallpapers/ktm-1290-super-duke-gt-1440x2560-sportsbike-2017-bikes-4k-2479.jpeg\n",
            "[!] Error:: HTTP Error 404: Not Found\n",
            "[%] Downloading Image #10 from https://wallpapershome.com/images/wallpapers/antelope-canyon-1440x2560-4k-5k-wallpaper-8k-arizona-usa-travel-6268.jpg\n",
            "[%] File Downloaded !\n",
            "\n",
            "[%] Downloading Image #11 from https://wallpapershome.com/images/wallpapers/switzerland-2160x3840-5k-4k-wallpaper-8k-hd-mountains-sunset-hills-5303.jpg\n",
            "[%] File Downloaded !\n",
            "\n",
            "[%] Downloading Image #12 from https://wallpapersite.com/images/wallpapers/ktm-1290-super-duke-r-1440x2560-2017-hd-3687.jpg\n",
            "[!] Issue getting: https://wallpapersite.com/images/wallpapers/ktm-1290-super-duke-r-1440x2560-2017-hd-3687.jpg\n",
            "[!] Error:: HTTP Error 404: Not Found\n",
            "[%] Downloading Image #12 from https://wallpapershome.com/images/wallpapers/autumn-1440x2560-lake-forest-5k-15987.jpg\n",
            "[%] File Downloaded !\n",
            "\n",
            "[%] Downloading Image #13 from https://wallpapershome.com/images/wallpapers/autumn-forest-1080x1920-5k-4k-wallpaper-rocks-trees-plants-waterfall-584.jpg\n",
            "[%] File Downloaded !\n",
            "\n",
            "[%] Downloading Image #14 from https://wallpapersite.com/images/wallpapers/ktm-790-duke-1440x2560-2018-4k-10960.jpg\n",
            "[!] Issue getting: https://wallpapersite.com/images/wallpapers/ktm-790-duke-1440x2560-2018-4k-10960.jpg\n",
            "[!] Error:: HTTP Error 404: Not Found\n",
            "[%] Downloading Image #14 from https://www.hdwallpapers.in/download/jupiter_ferris_wheel_fair-1366x768.jpg\n",
            "[%] File Downloaded !\n",
            "\n",
            "[%] Downloading Image #15 from https://wallpapershome.com/images/wallpapers/autumn-forest-1440x2560-5k-4k-wallpaper-rocks-trees-plants-waterfall-584.jpg\n",
            "[%] File Downloaded !\n",
            "\n",
            "[%] Downloading Image #16 from https://wallpapersite.com/images/wallpapers/yamaha-mt-10-sp-640x960-2017-moon-3700.jpg\n",
            "[!] Issue getting: https://wallpapersite.com/images/wallpapers/yamaha-mt-10-sp-640x960-2017-moon-3700.jpg\n",
            "[!] Error:: HTTP Error 404: Not Found\n",
            "[%] Downloading Image #16 from http://wallpapershome.com/images/pages/pic_v/14978.jpg\n",
            "[%] File Downloaded !\n",
            "\n",
            "[%] Downloading Image #17 from https://wallpapershome.com/images/wallpapers/niagara-falls-2160x3840-waterfall-7k-19444.jpg\n",
            "[%] File Downloaded !\n",
            "\n",
            "[%] Downloading Image #18 from https://www.hdwallpapers.in/download/brave_movie_2012-1366x768.jpg\n",
            "[%] File Downloaded !\n",
            "\n",
            "\n",
            "\n",
            "[!!]Indexing page: 3\n",
            "\n",
            "[%] Indexed 12 Images on Page 3.\n",
            "\n",
            "===============================================\n",
            "\n",
            "[%] Downloading Image #19 from https://wallpapersite.com/images/wallpapers/ktm-1290-super-duke-r-1440x2560-2017-hd-3687.jpg\n",
            "[!] Issue getting: https://wallpapersite.com/images/wallpapers/ktm-1290-super-duke-r-1440x2560-2017-hd-3687.jpg\n",
            "[!] Error:: HTTP Error 404: Not Found\n",
            "[%] Downloading Image #19 from https://www.hdwallpapers.in/download/jupiter_ferris_wheel_fair-1366x768.jpg\n",
            "[%] File Downloaded !\n",
            "\n",
            "[%] Downloading Image #20 from https://wallpapershome.com/images/wallpapers/switzerland-2160x3840-5k-4k-wallpaper-8k-hd-mountains-sunset-hills-5303.jpg\n",
            "[%] File Downloaded !\n",
            "\n",
            "[%] Downloading Image #21 from https://wallpapersite.com/images/wallpapers/ktm-790-duke-1440x2560-2018-4k-10960.jpg\n",
            "[!] Issue getting: https://wallpapersite.com/images/wallpapers/ktm-790-duke-1440x2560-2018-4k-10960.jpg\n",
            "[!] Error:: HTTP Error 404: Not Found\n",
            "[%] Downloading Image #21 from https://wallpapershome.com/images/wallpapers/niagara-falls-2160x3840-waterfall-7k-19444.jpg\n",
            "[%] File Downloaded !\n",
            "\n",
            "[%] Downloading Image #22 from https://wallpapersite.com/images/wallpapers/yamaha-mt-10-sp-640x960-2017-moon-3700.jpg\n",
            "[!] Issue getting: https://wallpapersite.com/images/wallpapers/yamaha-mt-10-sp-640x960-2017-moon-3700.jpg\n",
            "[!] Error:: HTTP Error 404: Not Found\n",
            "[%] Downloading Image #22 from https://wallpapershome.com/images/wallpapers/autumn-1440x2560-lake-forest-5k-15987.jpg\n",
            "[%] File Downloaded !\n",
            "\n",
            "[%] Downloading Image #23 from https://wallpapershome.com/images/wallpapers/autumn-forest-1080x1920-5k-4k-wallpaper-rocks-trees-plants-waterfall-584.jpg\n",
            "[%] File Downloaded !\n",
            "\n",
            "[%] Downloading Image #24 from http://wallpapershome.com/images/pages/pic_v/14978.jpg\n",
            "[%] File Downloaded !\n",
            "\n",
            "[%] Downloading Image #25 from https://www.hdwallpapers.in/download/brave_movie_2012-1366x768.jpg\n",
            "[%] File Downloaded !\n",
            "\n",
            "[%] Downloading Image #26 from https://wallpapershome.com/images/wallpapers/antelope-canyon-1440x2560-4k-5k-wallpaper-8k-arizona-usa-travel-6268.jpg\n",
            "[%] File Downloaded !\n",
            "\n",
            "[%] Downloading Image #27 from https://wallpapershome.com/images/wallpapers/autumn-forest-1440x2560-5k-4k-wallpaper-rocks-trees-plants-waterfall-584.jpg\n",
            "[%] File Downloaded !\n",
            "\n",
            "\n",
            "\n",
            "[!!]Indexing page: 4\n",
            "\n",
            "[%] Indexed 11 Images on Page 4.\n",
            "\n",
            "===============================================\n",
            "\n",
            "[%] Downloading Image #28 from https://wallpapersite.com/images/wallpapers/ktm-790-duke-1440x2560-2018-4k-10960.jpg\n",
            "[!] Issue getting: https://wallpapersite.com/images/wallpapers/ktm-790-duke-1440x2560-2018-4k-10960.jpg\n",
            "[!] Error:: HTTP Error 404: Not Found\n",
            "[%] Downloading Image #28 from https://www.hdwallpapers.in/download/brave_movie_2012-1366x768.jpg\n",
            "[%] File Downloaded !\n",
            "\n",
            "[%] Downloading Image #29 from https://wallpapersite.com/images/wallpapers/yamaha-mt-10-sp-640x960-2017-moon-3700.jpg\n",
            "[!] Issue getting: https://wallpapersite.com/images/wallpapers/yamaha-mt-10-sp-640x960-2017-moon-3700.jpg\n",
            "[!] Error:: HTTP Error 404: Not Found\n",
            "[%] Downloading Image #29 from https://www.hdwallpapers.in/download/jupiter_ferris_wheel_fair-1366x768.jpg\n",
            "[%] File Downloaded !\n",
            "\n",
            "[%] Downloading Image #30 from https://wallpapershome.com/images/wallpapers/autumn-forest-1080x1920-5k-4k-wallpaper-rocks-trees-plants-waterfall-584.jpg\n",
            "[%] File Downloaded !\n",
            "\n",
            "\n",
            "\n",
            "[%] Done. Downloaded 30 images.\n",
            "\n",
            "===============================================\n",
            "\n",
            "time: 37.6 s\n"
          ],
          "name": "stdout"
        }
      ]
    },
    {
      "cell_type": "code",
      "metadata": {
        "colab": {
          "base_uri": "https://localhost:8080/"
        },
        "id": "28VP-X1zGdB7",
        "outputId": "780e964e-6be2-482b-c85b-cd8be9ca9a31"
      },
      "source": [
        "from bing_image_downloader import downloader\n",
        "downloader.download(\"fridges\",limit=30,output_dir='images',adult_filter_off=True)"
      ],
      "execution_count": 35,
      "outputs": [
        {
          "output_type": "stream",
          "text": [
            "\n",
            "\n",
            "[!!]Indexing page: 1\n",
            "\n",
            "[%] Indexed 13 Images on Page 1.\n",
            "\n",
            "===============================================\n",
            "\n",
            "[%] Downloading Image #1 from http://cdn.designrulz.com/wp-content/uploads/2016/07/Chill-Pro-designrulz-1.jpg\n",
            "[%] File Downloaded !\n",
            "\n",
            "[%] Downloading Image #2 from https://for-sale.used-secondhand.co.uk/media/used/secondhand/images/39296/large-safe-smp-mercian-2916-bristol/1200/smp-mercian-2916-large-safe-90.JPG\n",
            "[%] File Downloaded !\n",
            "\n",
            "[%] Downloading Image #3 from https://www.smithandsmith.com.au/wp-content/gallery/contemporary-kitchen/Smith_and_smith_kitchens_kitchen_pics_020.jpg\n",
            "[%] File Downloaded !\n",
            "\n",
            "[%] Downloading Image #4 from https://i.shelterness.com/cool-diy-fridge-makeover-projects5.jpg\n",
            "[%] File Downloaded !\n",
            "\n",
            "[%] Downloading Image #5 from https://image.redbull.com/rbcom/052/2018-11-22/9a34651b-d86f-4342-be12-81d789d0d45d/0012/0/0/8/2832/4256/1500/1/devon-treehouse.jpg\n",
            "[%] File Downloaded !\n",
            "\n",
            "[%] Downloading Image #6 from https://www.drinkstuff.com/productimg/130101_large.jpg\n",
            "[%] File Downloaded !\n",
            "\n",
            "[%] Downloading Image #7 from https://i.pinimg.com/736x/c7/51/5a/c7515a4c815ecdb2ae282a61862cec74--dry-aged-beef-ager.jpg\n",
            "[%] File Downloaded !\n",
            "\n",
            "[%] Downloading Image #8 from http://d.ibtimes.co.uk/en/full/1479879/best-smart-home-ces-2016.jpg\n",
            "[%] File Downloaded !\n",
            "\n",
            "[%] Downloading Image #9 from https://www.smithandsmith.com.au/wp-content/gallery/nordic-style-kitchen-hughesdale/SmithandSmith_TimTurner3417.jpg\n",
            "[Error]Invalid image, not saving https://www.smithandsmith.com.au/wp-content/gallery/nordic-style-kitchen-hughesdale/SmithandSmith_TimTurner3417.jpg\n",
            "\n",
            "[!] Issue getting: https://www.smithandsmith.com.au/wp-content/gallery/nordic-style-kitchen-hughesdale/SmithandSmith_TimTurner3417.jpg\n",
            "[!] Error:: No active exception to reraise\n",
            "[%] Downloading Image #9 from http://latimesblogs.latimes.com/.a/6a00d8341c630a53ef0120a93b4b26970b-800wi\n",
            "[%] File Downloaded !\n",
            "\n",
            "[%] Downloading Image #10 from https://hg2.com/wp-content/uploads/2013/06/Paris_bars_Collete_water_bar.jpg\n",
            "[%] File Downloaded !\n",
            "\n",
            "[%] Downloading Image #11 from https://2014.igem.org/wiki/images/thumb/a/af/ETH2014_Safetyclothes.jpg/262px-ETH2014_Safetyclothes.jpg\n",
            "[%] File Downloaded !\n",
            "\n",
            "[%] Downloading Image #12 from https://i.ytimg.com/vi/Lc_G5wNj4Vc/maxresdefault.jpg\n",
            "[%] File Downloaded !\n",
            "\n",
            "\n",
            "\n",
            "[!!]Indexing page: 2\n",
            "\n",
            "[%] Indexed 13 Images on Page 2.\n",
            "\n",
            "===============================================\n",
            "\n",
            "[%] Downloading Image #13 from http://cdn.designrulz.com/wp-content/uploads/2016/07/Chill-Pro-designrulz-1.jpg\n",
            "[%] File Downloaded !\n",
            "\n",
            "[%] Downloading Image #14 from https://for-sale.used-secondhand.co.uk/media/used/secondhand/images/39296/large-safe-smp-mercian-2916-bristol/1200/smp-mercian-2916-large-safe-90.JPG\n",
            "[%] File Downloaded !\n",
            "\n",
            "[%] Downloading Image #15 from https://www.smithandsmith.com.au/wp-content/gallery/contemporary-kitchen/Smith_and_smith_kitchens_kitchen_pics_020.jpg\n",
            "[%] File Downloaded !\n",
            "\n",
            "[%] Downloading Image #16 from https://i.shelterness.com/cool-diy-fridge-makeover-projects5.jpg\n",
            "[%] File Downloaded !\n",
            "\n",
            "[%] Downloading Image #17 from https://image.redbull.com/rbcom/052/2018-11-22/9a34651b-d86f-4342-be12-81d789d0d45d/0012/0/0/8/2832/4256/1500/1/devon-treehouse.jpg\n",
            "[%] File Downloaded !\n",
            "\n",
            "[%] Downloading Image #18 from https://www.drinkstuff.com/productimg/130101_large.jpg\n",
            "[%] File Downloaded !\n",
            "\n",
            "[%] Downloading Image #19 from https://i.pinimg.com/736x/c7/51/5a/c7515a4c815ecdb2ae282a61862cec74--dry-aged-beef-ager.jpg\n",
            "[%] File Downloaded !\n",
            "\n",
            "[%] Downloading Image #20 from http://d.ibtimes.co.uk/en/full/1479879/best-smart-home-ces-2016.jpg\n",
            "[%] File Downloaded !\n",
            "\n",
            "[%] Downloading Image #21 from https://www.smithandsmith.com.au/wp-content/gallery/nordic-style-kitchen-hughesdale/SmithandSmith_TimTurner3417.jpg\n",
            "[Error]Invalid image, not saving https://www.smithandsmith.com.au/wp-content/gallery/nordic-style-kitchen-hughesdale/SmithandSmith_TimTurner3417.jpg\n",
            "\n",
            "[!] Issue getting: https://www.smithandsmith.com.au/wp-content/gallery/nordic-style-kitchen-hughesdale/SmithandSmith_TimTurner3417.jpg\n",
            "[!] Error:: No active exception to reraise\n",
            "[%] Downloading Image #21 from http://latimesblogs.latimes.com/.a/6a00d8341c630a53ef0120a93b4b26970b-800wi\n",
            "[%] File Downloaded !\n",
            "\n",
            "[%] Downloading Image #22 from https://hg2.com/wp-content/uploads/2013/06/Paris_bars_Collete_water_bar.jpg\n",
            "[%] File Downloaded !\n",
            "\n",
            "[%] Downloading Image #23 from https://2014.igem.org/wiki/images/thumb/a/af/ETH2014_Safetyclothes.jpg/262px-ETH2014_Safetyclothes.jpg\n",
            "[%] File Downloaded !\n",
            "\n",
            "[%] Downloading Image #24 from https://i.ytimg.com/vi/Lc_G5wNj4Vc/maxresdefault.jpg\n",
            "[%] File Downloaded !\n",
            "\n",
            "\n",
            "\n",
            "[!!]Indexing page: 3\n",
            "\n",
            "[%] Indexed 12 Images on Page 3.\n",
            "\n",
            "===============================================\n",
            "\n",
            "[%] Downloading Image #25 from https://i.shelterness.com/cool-diy-fridge-makeover-projects5.jpg\n",
            "[%] File Downloaded !\n",
            "\n",
            "[%] Downloading Image #26 from https://www.drinkstuff.com/productimg/130101_large.jpg\n",
            "[%] File Downloaded !\n",
            "\n",
            "[%] Downloading Image #27 from https://i.pinimg.com/736x/c7/51/5a/c7515a4c815ecdb2ae282a61862cec74--dry-aged-beef-ager.jpg\n",
            "[%] File Downloaded !\n",
            "\n",
            "[%] Downloading Image #28 from https://image.redbull.com/rbcom/052/2018-11-22/9a34651b-d86f-4342-be12-81d789d0d45d/0012/0/0/8/2832/4256/1500/1/devon-treehouse.jpg\n",
            "[%] File Downloaded !\n",
            "\n",
            "[%] Downloading Image #29 from https://www.smithandsmith.com.au/wp-content/gallery/nordic-style-kitchen-hughesdale/SmithandSmith_TimTurner3417.jpg\n",
            "[Error]Invalid image, not saving https://www.smithandsmith.com.au/wp-content/gallery/nordic-style-kitchen-hughesdale/SmithandSmith_TimTurner3417.jpg\n",
            "\n",
            "[!] Issue getting: https://www.smithandsmith.com.au/wp-content/gallery/nordic-style-kitchen-hughesdale/SmithandSmith_TimTurner3417.jpg\n",
            "[!] Error:: No active exception to reraise\n",
            "[%] Downloading Image #29 from http://latimesblogs.latimes.com/.a/6a00d8341c630a53ef0120a93b4b26970b-800wi\n",
            "[%] File Downloaded !\n",
            "\n",
            "[%] Downloading Image #30 from https://i.ytimg.com/vi/Lc_G5wNj4Vc/maxresdefault.jpg\n",
            "[%] File Downloaded !\n",
            "\n",
            "\n",
            "\n",
            "[%] Done. Downloaded 30 images.\n",
            "\n",
            "===============================================\n",
            "\n",
            "time: 13.8 s\n"
          ],
          "name": "stdout"
        }
      ]
    },
    {
      "cell_type": "code",
      "metadata": {
        "colab": {
          "base_uri": "https://localhost:8080/"
        },
        "id": "GVdP9HuxH2WZ",
        "outputId": "373d3fa6-fc51-4abc-c123-144a08e03094"
      },
      "source": [
        "import numpy as np\n",
        "a = np.array([[1,2,3,4,5],[4,5,6,7,8]])\n",
        "a.ndim"
      ],
      "execution_count": 34,
      "outputs": [
        {
          "output_type": "execute_result",
          "data": {
            "text/plain": [
              "2"
            ]
          },
          "metadata": {
            "tags": []
          },
          "execution_count": 34
        },
        {
          "output_type": "stream",
          "text": [
            "time: 6 ms\n"
          ],
          "name": "stdout"
        }
      ]
    },
    {
      "cell_type": "code",
      "metadata": {
        "colab": {
          "base_uri": "https://localhost:8080/",
          "height": 195
        },
        "id": "numYdBRPIU5j",
        "outputId": "5358ecee-734c-49f4-f2f9-6c93b9fa8e6e"
      },
      "source": [
        "a.flatten()\n",
        "a.ndim"
      ],
      "execution_count": 33,
      "outputs": [
        {
          "output_type": "error",
          "ename": "NameError",
          "evalue": "ignored",
          "traceback": [
            "\u001b[0;31m---------------------------------------------------------------------------\u001b[0m",
            "\u001b[0;31mNameError\u001b[0m                                 Traceback (most recent call last)",
            "\u001b[0;32m<ipython-input-33-cbef96d81032>\u001b[0m in \u001b[0;36m<module>\u001b[0;34m()\u001b[0m\n\u001b[0;32m----> 1\u001b[0;31m \u001b[0ma\u001b[0m\u001b[0;34m.\u001b[0m\u001b[0mflatten\u001b[0m\u001b[0;34m(\u001b[0m\u001b[0;34m)\u001b[0m\u001b[0;34m\u001b[0m\u001b[0;34m\u001b[0m\u001b[0m\n\u001b[0m\u001b[1;32m      2\u001b[0m \u001b[0ma\u001b[0m\u001b[0;34m.\u001b[0m\u001b[0mndim\u001b[0m\u001b[0;34m\u001b[0m\u001b[0;34m\u001b[0m\u001b[0m\n",
            "\u001b[0;31mNameError\u001b[0m: name 'a' is not defined"
          ]
        },
        {
          "output_type": "stream",
          "text": [
            "time: 13.8 ms\n"
          ],
          "name": "stdout"
        }
      ]
    },
    {
      "cell_type": "code",
      "metadata": {
        "colab": {
          "base_uri": "https://localhost:8080/"
        },
        "id": "FSyThE_CIfLM",
        "outputId": "5aebebfe-631c-486b-ee3e-d7acba3e44bf"
      },
      "source": [
        "import os\n",
        "import matplotlib.pyplot as plt\n",
        "import numpy as np\n",
        "from skimage.io import imread \n",
        "from skimage.transform import resize\n",
        "\n",
        "target = []\n",
        "images = []\n",
        "flat_data = []\n",
        "\n",
        "DATADIR = '/content/images'\n",
        "CATEGORIES = ['cars','bikes','fridges']\n",
        "\n",
        "for category in CATEGORIES:\n",
        "  print(category)"
      ],
      "execution_count": 32,
      "outputs": [
        {
          "output_type": "stream",
          "text": [
            "cars\n",
            "bikes\n",
            "fridges\n",
            "time: 7.11 ms\n"
          ],
          "name": "stdout"
        }
      ]
    },
    {
      "cell_type": "code",
      "metadata": {
        "colab": {
          "base_uri": "https://localhost:8080/"
        },
        "id": "xPQE_3iDJgoZ",
        "outputId": "0bc216fd-97ea-41f1-e082-8d9dfae1558c"
      },
      "source": [
        "import os\n",
        "import matplotlib.pyplot as plt\n",
        "import numpy as np\n",
        "from skimage.io import imread \n",
        "from skimage.transform import resize\n",
        "\n",
        "target = []\n",
        "images = []\n",
        "flat_data = []\n",
        "\n",
        "DATADIR = '/content/images'\n",
        "CATEGORIES = ['cars','bikes','fridges']\n",
        "\n",
        "for category in CATEGORIES:\n",
        "  class_num = CATEGORIES.index(category)\n",
        "  print(class_num)"
      ],
      "execution_count": 31,
      "outputs": [
        {
          "output_type": "stream",
          "text": [
            "0\n",
            "1\n",
            "2\n",
            "time: 7.47 ms\n"
          ],
          "name": "stdout"
        }
      ]
    },
    {
      "cell_type": "code",
      "metadata": {
        "colab": {
          "base_uri": "https://localhost:8080/"
        },
        "id": "AJQOEGV0RbyR",
        "outputId": "1165bca2-c73d-42aa-8e70-21abfff147ad"
      },
      "source": [
        "import os\n",
        "import matplotlib.pyplot as plt\n",
        "import numpy as np\n",
        "from skimage.io import imread \n",
        "from skimage.transform import resize\n",
        "\n",
        "target = []\n",
        "images = []\n",
        "flat_data = []\n",
        "\n",
        "DATADIR = '/content/images'\n",
        "CATEGORIES = ['cars','bikes','fridges']\n",
        "\n",
        "for category in CATEGORIES:\n",
        "  class_num = CATEGORIES.index(category)\n",
        "  path = os.path.join(DATADIR,category)\n",
        "  print(path)"
      ],
      "execution_count": 30,
      "outputs": [
        {
          "output_type": "stream",
          "text": [
            "/content/images/cars\n",
            "/content/images/bikes\n",
            "/content/images/fridges\n",
            "time: 4.88 ms\n"
          ],
          "name": "stdout"
        }
      ]
    },
    {
      "cell_type": "code",
      "metadata": {
        "colab": {
          "base_uri": "https://localhost:8080/"
        },
        "id": "y1EFx9qXSxWG",
        "outputId": "3ee0b369-fb42-4cba-8716-1de79beb9e6c"
      },
      "source": [
        "!pip install ipython-autotime\n",
        "%load_ext autotime"
      ],
      "execution_count": 17,
      "outputs": [
        {
          "output_type": "stream",
          "text": [
            "Requirement already satisfied: ipython-autotime in /usr/local/lib/python3.6/dist-packages (0.2.0)\n",
            "Requirement already satisfied: ipython in /usr/local/lib/python3.6/dist-packages (from ipython-autotime) (5.5.0)\n",
            "Requirement already satisfied: setuptools>=18.5 in /usr/local/lib/python3.6/dist-packages (from ipython->ipython-autotime) (50.3.2)\n",
            "Requirement already satisfied: decorator in /usr/local/lib/python3.6/dist-packages (from ipython->ipython-autotime) (4.4.2)\n",
            "Requirement already satisfied: pexpect; sys_platform != \"win32\" in /usr/local/lib/python3.6/dist-packages (from ipython->ipython-autotime) (4.8.0)\n",
            "Requirement already satisfied: traitlets>=4.2 in /usr/local/lib/python3.6/dist-packages (from ipython->ipython-autotime) (4.3.3)\n",
            "Requirement already satisfied: prompt-toolkit<2.0.0,>=1.0.4 in /usr/local/lib/python3.6/dist-packages (from ipython->ipython-autotime) (1.0.18)\n",
            "Requirement already satisfied: simplegeneric>0.8 in /usr/local/lib/python3.6/dist-packages (from ipython->ipython-autotime) (0.8.1)\n",
            "Requirement already satisfied: pygments in /usr/local/lib/python3.6/dist-packages (from ipython->ipython-autotime) (2.6.1)\n",
            "Requirement already satisfied: pickleshare in /usr/local/lib/python3.6/dist-packages (from ipython->ipython-autotime) (0.7.5)\n",
            "Requirement already satisfied: ptyprocess>=0.5 in /usr/local/lib/python3.6/dist-packages (from pexpect; sys_platform != \"win32\"->ipython->ipython-autotime) (0.6.0)\n",
            "Requirement already satisfied: ipython-genutils in /usr/local/lib/python3.6/dist-packages (from traitlets>=4.2->ipython->ipython-autotime) (0.2.0)\n",
            "Requirement already satisfied: six in /usr/local/lib/python3.6/dist-packages (from traitlets>=4.2->ipython->ipython-autotime) (1.15.0)\n",
            "Requirement already satisfied: wcwidth in /usr/local/lib/python3.6/dist-packages (from prompt-toolkit<2.0.0,>=1.0.4->ipython->ipython-autotime) (0.2.5)\n",
            "The autotime extension is already loaded. To reload it, use:\n",
            "  %reload_ext autotime\n",
            "time: 2.63 s\n"
          ],
          "name": "stdout"
        }
      ]
    },
    {
      "cell_type": "code",
      "metadata": {
        "colab": {
          "base_uri": "https://localhost:8080/"
        },
        "id": "mpv1bQUPRXK_",
        "outputId": "40ea0f1d-4f77-489e-bfde-000776840ac5"
      },
      "source": [
        "import os\n",
        "import matplotlib.pyplot as plt\n",
        "import numpy as np\n",
        "from skimage.io import imread \n",
        "from skimage.transform import resize\n",
        "\n",
        "target = []\n",
        "images = []\n",
        "flat_data = []\n",
        "\n",
        "DATADIR = '/content/images'\n",
        "CATEGORIES = ['cars','bikes','fridges']\n",
        "\n",
        "for category in CATEGORIES:\n",
        "  class_num = CATEGORIES.index(category)\n",
        "  path = os.path.join(DATADIR,category)\n",
        "  for img in os.listdir(path):\n",
        "    img_array = imread(os.path.join(path,img))\n",
        "    print(img_array.shape)\n"
      ],
      "execution_count": 29,
      "outputs": [
        {
          "output_type": "stream",
          "text": [
            "(960, 1920, 3)\n",
            "(800, 600, 3)\n",
            "(1280, 1920, 3)\n",
            "(720, 1280, 3)\n",
            "(615, 450, 3)\n",
            "(900, 1710, 3)\n",
            "(974, 640, 3)\n",
            "(1333, 2000, 3)\n",
            "(974, 640, 3)\n",
            "(822, 380, 3)\n",
            "(615, 450, 3)\n",
            "(822, 380, 3)\n",
            "(628, 1200, 3)\n",
            "(500, 1024, 3)\n",
            "(974, 640, 3)\n",
            "(768, 1021, 3)\n",
            "(720, 1280, 3)\n",
            "(733, 1024, 3)\n",
            "(900, 1710, 3)\n",
            "(1040, 1920, 3)\n",
            "(628, 1200, 3)\n",
            "(733, 1024, 3)\n",
            "(2400, 1600, 3)\n",
            "(704, 1024, 3)\n",
            "(822, 380, 3)\n",
            "(733, 1024, 3)\n",
            "(853, 1280, 3)\n",
            "(800, 600, 3)\n",
            "(800, 600, 3)\n",
            "(615, 450, 3)\n",
            "(1920, 1080, 3)\n",
            "(2560, 1440, 3)\n",
            "(1920, 1080, 3)\n",
            "(768, 1366, 3)\n",
            "(768, 1366, 3)\n",
            "(768, 1366, 3)\n",
            "(3840, 2160, 3)\n",
            "(2560, 1440, 3)\n",
            "(768, 1366, 3)\n",
            "(3840, 2160, 3)\n",
            "(768, 1366, 3)\n",
            "(1920, 1080, 3)\n",
            "(1138, 640, 3)\n",
            "(3840, 2160, 3)\n",
            "(2560, 1440, 3)\n",
            "(2560, 1440, 3)\n",
            "(768, 1366, 3)\n",
            "(2560, 1440, 3)\n",
            "(3840, 2160, 3)\n",
            "(2560, 1440, 3)\n",
            "(1138, 640, 3)\n",
            "(3840, 2160, 3)\n",
            "(768, 1366, 3)\n",
            "(3840, 2160, 3)\n",
            "(2560, 1440, 3)\n",
            "(2560, 1440, 3)\n",
            "(768, 1366, 3)\n",
            "(1138, 640, 3)\n",
            "(2560, 1440, 3)\n",
            "(1920, 1080, 3)\n",
            "(720, 1280, 3)\n",
            "(420, 280, 3)\n",
            "(388, 262, 3)\n",
            "(640, 550, 3)\n",
            "(600, 800, 3)\n",
            "(425, 319, 3)\n",
            "(425, 319, 3)\n",
            "(1103, 735, 3)\n",
            "(2000, 2000, 3)\n",
            "(983, 650, 3)\n",
            "(800, 1200, 3)\n",
            "(1222, 690, 3)\n",
            "(1024, 683, 3)\n",
            "(2000, 2000, 3)\n",
            "(600, 401, 3)\n",
            "(675, 1200, 4)\n",
            "(1000, 1500, 3)\n",
            "(1600, 1200, 3)\n",
            "(988, 1200, 3)\n",
            "(1000, 1500, 3)\n",
            "(992, 2000, 3)\n",
            "(720, 1280, 3)\n",
            "(1200, 798, 3)\n",
            "(594, 358, 3)\n",
            "(875, 590, 3)\n",
            "(600, 374, 3)\n",
            "(640, 550, 3)\n",
            "(821, 500, 3)\n",
            "(594, 358, 3)\n",
            "(1192, 800, 3)\n",
            "time: 3.5 s\n"
          ],
          "name": "stdout"
        }
      ]
    },
    {
      "cell_type": "code",
      "metadata": {
        "colab": {
          "base_uri": "https://localhost:8080/",
          "height": 236
        },
        "id": "uO-vTYHmV1Xe",
        "outputId": "d86b4104-f931-4832-bd69-2b8188c5e673"
      },
      "source": [
        "import os\n",
        "import matplotlib.pyplot as plt\n",
        "import numpy as np\n",
        "from skimage.io import imread \n",
        "from skimage.transform import resize\n",
        "\n",
        "target = []\n",
        "images = []\n",
        "flat_data = []\n",
        "\n",
        "DATADIR = '/content/images'\n",
        "CATEGORIES = ['cars','bikes','fridges']\n",
        "\n",
        "for category in CATEGORIES:\n",
        "  class_num = CATEGORIES.index(category)\n",
        "  path = os.path.join(DATADIR,category)\n",
        "  for img in os.listdir(path):\n",
        "    img_array = imread(os.path.join(path,img))\n",
        "    plt.imshow(img_array)\n",
        "    break\n",
        "  break"
      ],
      "execution_count": 28,
      "outputs": [
        {
          "output_type": "display_data",
          "data": {
            "image/png": "[encoded data removed]",
            "text/plain": [
              "<Figure size 432x288 with 1 Axes>"
            ]
          },
          "metadata": {
            "tags": [],
            "needs_background": "light"
          }
        },
        {
          "output_type": "stream",
          "text": [
            "time: 503 ms\n"
          ],
          "name": "stdout"
        }
      ]
    },
    {
      "cell_type": "code",
      "metadata": {
        "colab": {
          "base_uri": "https://localhost:8080/"
        },
        "id": "LAgs7y_1bhVV",
        "outputId": "de292698-f6d6-4ecb-9fa2-98f26f5f8765"
      },
      "source": [
        "import os\n",
        "import matplotlib.pyplot as plt\n",
        "import numpy as np\n",
        "from skimage.io import imread \n",
        "from skimage.transform import resize\n",
        "\n",
        "target = []\n",
        "images = []\n",
        "flat_data = []\n",
        "\n",
        "DATADIR = '/content/images'\n",
        "CATEGORIES = ['cars','bikes','fridges']\n",
        "\n",
        "for category in CATEGORIES:\n",
        "  class_num = CATEGORIES.index(category)\n",
        "  path = os.path.join(DATADIR,category)\n",
        "  for img in os.listdir(path):\n",
        "    img_array = imread(os.path.join(path,img))\n",
        "    img_resized = resize(img_array,(150,150,3))\n",
        "    flat_data.append(img_resized.flatten())\n",
        "    images.append(img_resized)\n",
        "    target.append(class_num)\n",
        "\n",
        "flat_data = np.array(flat_data)\n",
        "target = np.array(target)\n",
        "images = np.array(images)"
      ],
      "execution_count": 39,
      "outputs": [
        {
          "output_type": "stream",
          "text": [
            "time: 40 s\n"
          ],
          "name": "stdout"
        }
      ]
    },
    {
      "cell_type": "code",
      "metadata": {
        "colab": {
          "base_uri": "https://localhost:8080/"
        },
        "id": "E6sqipkSc6u5",
        "outputId": "2a925fb5-64e5-467e-8929-c6825a2a0b5a"
      },
      "source": [
        "len(flat_data[0])"
      ],
      "execution_count": 40,
      "outputs": [
        {
          "output_type": "execute_result",
          "data": {
            "text/plain": [
              "67500"
            ]
          },
          "metadata": {
            "tags": []
          },
          "execution_count": 40
        },
        {
          "output_type": "stream",
          "text": [
            "time: 2.94 ms\n"
          ],
          "name": "stdout"
        }
      ]
    },
    {
      "cell_type": "code",
      "metadata": {
        "colab": {
          "base_uri": "https://localhost:8080/"
        },
        "id": "gqpa6nfcdP3F",
        "outputId": "6e86c8ba-93a5-4631-94cc-d16fac74b222"
      },
      "source": [
        "target"
      ],
      "execution_count": 41,
      "outputs": [
        {
          "output_type": "execute_result",
          "data": {
            "text/plain": [
              "array([0, 0, 0, 0, 0, 0, 0, 0, 0, 0, 0, 0, 0, 0, 0, 0, 0, 0, 0, 0, 0, 0,\n",
              "       0, 0, 0, 0, 0, 0, 0, 0, 0, 0, 1, 1, 1, 1, 1, 1, 1, 1, 1, 1, 1, 1,\n",
              "       1, 1, 1, 1, 1, 1, 1, 1, 1, 1, 1, 1, 1, 1, 1, 1, 1, 1, 2, 2, 2, 2,\n",
              "       2, 2, 2, 2, 2, 2, 2, 2, 2, 2, 2, 2, 2, 2, 2, 2, 2, 2, 2, 2, 2, 2,\n",
              "       2, 2, 2, 2, 2, 2])"
            ]
          },
          "metadata": {
            "tags": []
          },
          "execution_count": 41
        },
        {
          "output_type": "stream",
          "text": [
            "time: 3.47 ms\n"
          ],
          "name": "stdout"
        }
      ]
    },
    {
      "cell_type": "code",
      "metadata": {
        "colab": {
          "base_uri": "https://localhost:8080/",
          "height": 298
        },
        "id": "XCksAAr-dX_o",
        "outputId": "941bfc39-67af-4052-f356-d28c7ff4d1ca"
      },
      "source": [
        "unique,count = np.unique(target,return_counts=True)\n",
        "plt.bar(CATEGORIES,count)"
      ],
      "execution_count": 42,
      "outputs": [
        {
          "output_type": "execute_result",
          "data": {
            "text/plain": [
              "<BarContainer object of 3 artists>"
            ]
          },
          "metadata": {
            "tags": []
          },
          "execution_count": 42
        },
        {
          "output_type": "display_data",
          "data": {
            "image/png": "[encoded data removed]",
            "text/plain": [
              "<Figure size 432x288 with 1 Axes>"
            ]
          },
          "metadata": {
            "tags": [],
            "needs_background": "light"
          }
        },
        {
          "output_type": "stream",
          "text": [
            "time: 139 ms\n"
          ],
          "name": "stdout"
        }
      ]
    },
    {
      "cell_type": "code",
      "metadata": {
        "colab": {
          "base_uri": "https://localhost:8080/"
        },
        "id": "bIuNLp9rf68x",
        "outputId": "f6daad8c-7326-43cb-90c1-671a07da409c"
      },
      "source": [
        "from sklearn.model_selection import train_test_split\n",
        "x_train,x_test,y_train,y_test = train_test_split(flat_data,target,test_size=0.3,random_state=109)"
      ],
      "execution_count": 43,
      "outputs": [
        {
          "output_type": "stream",
          "text": [
            "time: 257 ms\n"
          ],
          "name": "stdout"
        }
      ]
    },
    {
      "cell_type": "code",
      "metadata": {
        "colab": {
          "base_uri": "https://localhost:8080/"
        },
        "id": "bbT_WtKIgMdA",
        "outputId": "d934b64e-fa20-4f8b-fc8d-2d70a7602b4d"
      },
      "source": [
        "from sklearn.model_selection import GridSearchCV\n",
        "from sklearn import svm\n",
        "param_grid = [\n",
        "              {  'C':[1,10,100,1000],'kernel':['linear']},\n",
        "              {   'C':[1,10,100,1000],'gamma':[0.001,0.0001],'kernel':['rbf']},\n",
        "\n",
        "]\n",
        "\n",
        "svc = svm.SVC(probability=True)\n",
        "clf = GridSearchCV(svc,param_grid)\n",
        "clf.fit(x_train,y_train)"
      ],
      "execution_count": 44,
      "outputs": [
        {
          "output_type": "execute_result",
          "data": {
            "text/plain": [
              "GridSearchCV(cv=None, error_score=nan,\n",
              "             estimator=SVC(C=1.0, break_ties=False, cache_size=200,\n",
              "                           class_weight=None, coef0=0.0,\n",
              "                           decision_function_shape='ovr', degree=3,\n",
              "                           gamma='scale', kernel='rbf', max_iter=-1,\n",
              "                           probability=True, random_state=None, shrinking=True,\n",
              "                           tol=0.001, verbose=False),\n",
              "             iid='deprecated', n_jobs=None,\n",
              "             param_grid=[{'C': [1, 10, 100, 1000], 'kernel': ['linear']},\n",
              "                         {'C': [1, 10, 100, 1000], 'gamma': [0.001, 0.0001],\n",
              "                          'kernel': ['rbf']}],\n",
              "             pre_dispatch='2*n_jobs', refit=True, return_train_score=False,\n",
              "             scoring=None, verbose=0)"
            ]
          },
          "metadata": {
            "tags": []
          },
          "execution_count": 44
        },
        {
          "output_type": "stream",
          "text": [
            "time: 1min 18s\n"
          ],
          "name": "stdout"
        }
      ]
    },
    {
      "cell_type": "code",
      "metadata": {
        "colab": {
          "base_uri": "https://localhost:8080/"
        },
        "id": "1xiujyG2gyl4",
        "outputId": "63feb891-467e-48bc-b427-19fb59251010"
      },
      "source": [
        "y_pred = clf.predict(x_test)\n",
        "y_pred"
      ],
      "execution_count": 45,
      "outputs": [
        {
          "output_type": "execute_result",
          "data": {
            "text/plain": [
              "array([1, 0, 1, 2, 1, 1, 0, 0, 0, 2, 2, 0, 1, 1, 2, 2, 2, 2, 2, 0, 0, 1,\n",
              "       2, 1, 1, 2, 1, 2, 0])"
            ]
          },
          "metadata": {
            "tags": []
          },
          "execution_count": 45
        },
        {
          "output_type": "stream",
          "text": [
            "time: 146 ms\n"
          ],
          "name": "stdout"
        }
      ]
    },
    {
      "cell_type": "code",
      "metadata": {
        "colab": {
          "base_uri": "https://localhost:8080/"
        },
        "id": "Rquqk0nihBSd",
        "outputId": "667b9541-7f73-4dfe-e718-e318c9005ec3"
      },
      "source": [
        "y_test"
      ],
      "execution_count": 46,
      "outputs": [
        {
          "output_type": "execute_result",
          "data": {
            "text/plain": [
              "array([1, 0, 1, 2, 1, 1, 0, 0, 0, 2, 2, 0, 1, 1, 2, 2, 2, 2, 2, 0, 0, 1,\n",
              "       2, 1, 1, 2, 1, 2, 0])"
            ]
          },
          "metadata": {
            "tags": []
          },
          "execution_count": 46
        },
        {
          "output_type": "stream",
          "text": [
            "time: 6.96 ms\n"
          ],
          "name": "stdout"
        }
      ]
    },
    {
      "cell_type": "code",
      "metadata": {
        "colab": {
          "base_uri": "https://localhost:8080/"
        },
        "id": "zSVH3uGWhJNe",
        "outputId": "98fd08c6-9dfe-43fc-b797-d2a5e9065811"
      },
      "source": [
        "from sklearn.metrics import accuracy_score,confusion_matrix"
      ],
      "execution_count": 47,
      "outputs": [
        {
          "output_type": "stream",
          "text": [
            "time: 863 µs\n"
          ],
          "name": "stdout"
        }
      ]
    },
    {
      "cell_type": "code",
      "metadata": {
        "colab": {
          "base_uri": "https://localhost:8080/"
        },
        "id": "7_AReLIHhWR2",
        "outputId": "7c8fb8a7-b7fd-4f2f-8180-f77e6b2f5d45"
      },
      "source": [
        "accuracy_score(y_pred,y_test)"
      ],
      "execution_count": 48,
      "outputs": [
        {
          "output_type": "execute_result",
          "data": {
            "text/plain": [
              "1.0"
            ]
          },
          "metadata": {
            "tags": []
          },
          "execution_count": 48
        },
        {
          "output_type": "stream",
          "text": [
            "time: 6.94 ms\n"
          ],
          "name": "stdout"
        }
      ]
    },
    {
      "cell_type": "code",
      "metadata": {
        "colab": {
          "base_uri": "https://localhost:8080/"
        },
        "id": "dPqdvks_h2ge",
        "outputId": "c4f8fb9e-58e6-48b2-a0e2-01068b7f0869"
      },
      "source": [
        "confusion_matrix(y_pred,y_test)"
      ],
      "execution_count": 50,
      "outputs": [
        {
          "output_type": "execute_result",
          "data": {
            "text/plain": [
              "array([[ 8,  0,  0],\n",
              "       [ 0, 10,  0],\n",
              "       [ 0,  0, 11]])"
            ]
          },
          "metadata": {
            "tags": []
          },
          "execution_count": 50
        },
        {
          "output_type": "stream",
          "text": [
            "time: 4.2 ms\n"
          ],
          "name": "stdout"
        }
      ]
    },
    {
      "cell_type": "code",
      "metadata": {
        "colab": {
          "base_uri": "https://localhost:8080/"
        },
        "id": "pE5QLd00iGJf",
        "outputId": "00a66582-657a-43a6-83be-0504a47d79b8"
      },
      "source": [
        "import pickle\n",
        "pickle.dump(clf,open('img_model.p','wb'))"
      ],
      "execution_count": 51,
      "outputs": [
        {
          "output_type": "stream",
          "text": [
            "time: 32.5 ms\n"
          ],
          "name": "stdout"
        }
      ]
    },
    {
      "cell_type": "code",
      "metadata": {
        "colab": {
          "base_uri": "https://localhost:8080/"
        },
        "id": "7SWrtfN4iZ2z",
        "outputId": "b95e7aab-a770-4c6c-e98d-f33ab7c1ab53"
      },
      "source": [
        "model = pickle.load(open('img_model.p','rb'))"
      ],
      "execution_count": 52,
      "outputs": [
        {
          "output_type": "stream",
          "text": [
            "time: 15.6 ms\n"
          ],
          "name": "stdout"
        }
      ]
    },
    {
      "cell_type": "code",
      "metadata": {
        "colab": {
          "base_uri": "https://localhost:8080/",
          "height": 336
        },
        "id": "_ITe3u_zirEz",
        "outputId": "c28c7bc5-26ec-4a17-ef04-3254f681a7ef"
      },
      "source": [
        "flat_data = []\n",
        "url = input('ENTER YOUR URL')\n",
        "img = imread(url)\n",
        "img_resized = resize(img,(150,150,3))\n",
        "flat_data.append(img_resized.flatten())\n",
        "flat_data = np.array(flat_data)\n",
        "print(img.shape)\n",
        "plt.imshow(img_resized)\n",
        "y_out = model.predict(flat_data)\n",
        "y_out = CATEGORIES[y_out[0]]\n",
        "print(f'PREDICTED OUTPUT: {y_out}')"
      ],
      "execution_count": 56,
      "outputs": [
        {
          "output_type": "stream",
          "text": [
            "ENTER YOUR URLhttps://encrypted-tbn0.gstatic.com/images?q=tbn:ANd9GcTv5oU7SzmlX0qZwX3zPolHeHQ6c-6wq0qmEXuThmRMUJ10vczKGObrWkWLwHw6UajZ65xjR1s&usqp=CAc\n",
            "(196, 196, 3)\n",
            "PREDICTED OUTPUT: fridges\n"
          ],
          "name": "stdout"
        },
        {
          "output_type": "display_data",
          "data": {
            "image/png": "[encoded data removed]",
            "text/plain": [
              "<Figure size 432x288 with 1 Axes>"
            ]
          },
          "metadata": {
            "tags": [],
            "needs_background": "light"
          }
        },
        {
          "output_type": "stream",
          "text": [
            "time: 12.3 s\n"
          ],
          "name": "stdout"
        }
      ]
    }
  ]
}